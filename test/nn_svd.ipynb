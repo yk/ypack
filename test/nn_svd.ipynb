{
 "cells": [
  {
   "cell_type": "code",
   "execution_count": 6,
   "metadata": {},
   "outputs": [],
   "source": [
    "%matplotlib inline\n",
    "\n",
    "from ypack import th_utils\n",
    "import torch as th\n",
    "import numpy as np\n",
    "from sklearn import metrics\n",
    "from matplotlib import pyplot as plt"
   ]
  },
  {
   "cell_type": "code",
   "execution_count": 12,
   "metadata": {},
   "outputs": [
    {
     "name": "stderr",
     "output_type": "stream",
     "text": [
      "100%|██████████| 1/1 [00:00<00:00, 632.43it/s]\n",
      "100%|██████████| 1/1 [00:00<00:00, 725.66it/s]\n",
      "100%|██████████| 1/1 [00:00<00:00, 176.71it/s]\n",
      "100%|██████████| 1/1 [00:00<00:00, 74.29it/s]\n",
      "100%|██████████| 1/1 [00:00<00:00, 592.42it/s]\n",
      "100%|██████████| 1/1 [00:00<00:00, 580.45it/s]\n",
      "100%|██████████| 1/1 [00:00<00:00, 409.16it/s]\n",
      "100%|██████████| 1/1 [00:00<00:00, 101.03it/s]\n",
      "100%|██████████| 1/1 [00:00<00:00, 835.52it/s]\n",
      "100%|██████████| 1/1 [00:00<00:00, 509.95it/s]\n",
      "100%|██████████| 1/1 [00:00<00:00, 384.34it/s]\n",
      "100%|██████████| 1/1 [00:00<00:00, 107.61it/s]\n",
      "100%|██████████| 1/1 [00:00<00:00, 627.33it/s]\n",
      "100%|██████████| 1/1 [00:00<00:00, 504.55it/s]\n",
      "100%|██████████| 1/1 [00:00<00:00, 404.35it/s]\n",
      "100%|██████████| 1/1 [00:00<00:00, 110.12it/s]\n",
      "100%|██████████| 1/1 [00:00<00:00, 577.33it/s]\n",
      "100%|██████████| 1/1 [00:00<00:00, 448.88it/s]\n",
      "100%|██████████| 1/1 [00:00<00:00, 380.68it/s]\n",
      "100%|██████████| 1/1 [00:00<00:00, 109.67it/s]\n",
      "100%|██████████| 1/1 [00:00<00:00, 645.58it/s]\n",
      "100%|██████████| 1/1 [00:00<00:00, 548.28it/s]\n",
      "100%|██████████| 1/1 [00:00<00:00, 377.49it/s]\n",
      "100%|██████████| 1/1 [00:00<00:00, 102.43it/s]\n",
      "100%|██████████| 1/1 [00:00<00:00, 587.93it/s]\n",
      "100%|██████████| 1/1 [00:00<00:00, 543.44it/s]\n",
      "100%|██████████| 1/1 [00:00<00:00, 420.14it/s]\n",
      "100%|██████████| 1/1 [00:00<00:00, 121.14it/s]\n",
      "100%|██████████| 1/1 [00:00<00:00, 666.71it/s]\n",
      "100%|██████████| 1/1 [00:00<00:00, 565.65it/s]\n",
      "100%|██████████| 1/1 [00:00<00:00, 383.29it/s]\n",
      "100%|██████████| 1/1 [00:00<00:00, 117.24it/s]\n",
      "100%|██████████| 1/1 [00:00<00:00, 646.77it/s]\n",
      "100%|██████████| 1/1 [00:00<00:00, 495.78it/s]\n",
      "100%|██████████| 1/1 [00:00<00:00, 365.07it/s]\n",
      "100%|██████████| 1/1 [00:00<00:00, 116.28it/s]\n",
      "100%|██████████| 1/1 [00:00<00:00, 588.26it/s]\n",
      "100%|██████████| 1/1 [00:00<00:00, 467.02it/s]\n",
      "100%|██████████| 1/1 [00:00<00:00, 395.58it/s]\n",
      "100%|██████████| 1/1 [00:00<00:00, 115.83it/s]\n",
      "100%|██████████| 1/1 [00:00<00:00, 690.19it/s]\n",
      "100%|██████████| 1/1 [00:00<00:00, 441.13it/s]\n",
      "100%|██████████| 1/1 [00:00<00:00, 371.60it/s]\n",
      "100%|██████████| 1/1 [00:00<00:00, 114.35it/s]\n",
      "100%|██████████| 1/1 [00:00<00:00, 679.79it/s]\n",
      "100%|██████████| 1/1 [00:00<00:00, 501.23it/s]\n",
      "100%|██████████| 1/1 [00:00<00:00, 373.69it/s]\n",
      "100%|██████████| 1/1 [00:00<00:00, 116.81it/s]\n",
      "100%|██████████| 1/1 [00:00<00:00, 582.46it/s]\n",
      "100%|██████████| 1/1 [00:00<00:00, 507.29it/s]\n",
      "100%|██████████| 1/1 [00:00<00:00, 380.64it/s]\n",
      "100%|██████████| 1/1 [00:00<00:00, 111.30it/s]\n",
      "100%|██████████| 1/1 [00:00<00:00, 540.50it/s]\n",
      "100%|██████████| 1/1 [00:00<00:00, 481.94it/s]\n",
      "100%|██████████| 1/1 [00:00<00:00, 387.32it/s]\n",
      "100%|██████████| 1/1 [00:00<00:00, 106.99it/s]\n",
      "100%|██████████| 1/1 [00:00<00:00, 667.67it/s]\n",
      "100%|██████████| 1/1 [00:00<00:00, 506.07it/s]\n",
      "100%|██████████| 1/1 [00:00<00:00, 377.63it/s]\n",
      "100%|██████████| 1/1 [00:00<00:00, 112.37it/s]\n"
     ]
    },
    {
     "data": {
      "image/png": "[encoded data removed]",
      "text/plain": [
       "<Figure size 432x288 with 1 Axes>"
      ]
     },
     "metadata": {
      "needs_background": "light"
     },
     "output_type": "display_data"
    },
    {
     "data": {
      "image/png": "[encoded data removed]",
      "text/plain": [
       "<Figure size 432x288 with 1 Axes>"
      ]
     },
     "metadata": {
      "needs_background": "light"
     },
     "output_type": "display_data"
    },
    {
     "data": {
      "image/png": "[encoded data removed]",
      "text/plain": [
       "<Figure size 432x288 with 1 Axes>"
      ]
     },
     "metadata": {
      "needs_background": "light"
     },
     "output_type": "display_data"
    },
    {
     "data": {
      "image/png": "[encoded data removed]",
      "text/plain": [
       "<Figure size 432x288 with 1 Axes>"
      ]
     },
     "metadata": {
      "needs_background": "light"
     },
     "output_type": "display_data"
    },
    {
     "data": {
      "image/png": "[encoded data removed]",
      "text/plain": [
       "<Figure size 432x288 with 1 Axes>"
      ]
     },
     "metadata": {
      "needs_background": "light"
     },
     "output_type": "display_data"
    }
   ],
   "source": [
    "net = th.nn.Sequential(\n",
    "            th.nn.Linear(20, 30),\n",
    "            th.nn.ReLU(),\n",
    "            th.nn.Linear(30, 10)\n",
    "        )\n",
    "x0 = th.zeros(20).unsqueeze_(0)\n",
    "\n",
    "def fn_it(x):\n",
    "    return net(x)\n",
    "\n",
    "def fn(x, i):\n",
    "    return x, net(x)\n",
    "\n",
    "for eps in (1e-2, 1e-3, 1e-4, 1e-5, 1e-6):\n",
    "    for bias in (True,):\n",
    "        res = []\n",
    "        for fb_iters in (1, 10, 100):\n",
    "            res.append([])\n",
    "            u_list_it, v_list_it = th_utils.general_iterative_svd(fn_it, x0, fb_iters=fb_iters)\n",
    "            u1_it, v1_it = u_list_it[0][0].numpy(), v_list_it[0][0].numpy()\n",
    "            for num_noise_samples in (10, 100, 1000, 10000):\n",
    "                u_list, s_list, v_list = th_utils.network_linear(fn, x0, num_vectors=3, with_bias=bias, noise_eps=eps, num_noise_samples=num_noise_samples)\n",
    "                u1, v1 = u_list[0][0].numpy(), v_list[0][0].numpy()\n",
    "                sim = np.abs(metrics.pairwise.cosine_similarity([v1], [v1_it])).item()\n",
    "                res[-1].append(sim)\n",
    "        plt.figure()\n",
    "        plt.imshow(np.array([res,res,res]).transpose((1,2,0)))"
   ]
  },
  {
   "cell_type": "code",
   "execution_count": null,
   "metadata": {},
   "outputs": [],
   "source": []
  }
 ],
 "metadata": {
  "kernelspec": {
   "display_name": "Python 3",
   "language": "python",
   "name": "python3"
  },
  "language_info": {
   "codemirror_mode": {
    "name": "ipython",
    "version": 3
   },
   "file_extension": ".py",
   "mimetype": "text/x-python",
   "name": "python",
   "nbconvert_exporter": "python",
   "pygments_lexer": "ipython3",
   "version": "3.7.2"
  }
 },
 "nbformat": 4,
 "nbformat_minor": 2
}
